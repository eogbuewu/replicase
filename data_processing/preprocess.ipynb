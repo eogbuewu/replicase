{
 "cells": [
  {
   "cell_type": "code",
   "execution_count": 1,
   "id": "557c9479",
   "metadata": {},
   "outputs": [
    {
     "name": "stdout",
     "output_type": "stream",
     "text": [
      "Requirement already satisfied: chembl_webresource_client in c:\\anaconda\\lib\\site-packages (0.10.8)\n",
      "Requirement already satisfied: urllib3 in c:\\anaconda\\lib\\site-packages (from chembl_webresource_client) (1.26.9)\n",
      "Requirement already satisfied: requests>=2.18.4 in c:\\anaconda\\lib\\site-packages (from chembl_webresource_client) (2.27.1)\n",
      "Requirement already satisfied: easydict in c:\\anaconda\\lib\\site-packages (from chembl_webresource_client) (1.10)\n",
      "Requirement already satisfied: requests-cache~=0.7.0 in c:\\anaconda\\lib\\site-packages (from chembl_webresource_client) (0.7.5)\n",
      "Requirement already satisfied: certifi>=2017.4.17 in c:\\anaconda\\lib\\site-packages (from requests>=2.18.4->chembl_webresource_client) (2023.5.7)\n",
      "Requirement already satisfied: idna<4,>=2.5 in c:\\anaconda\\lib\\site-packages (from requests>=2.18.4->chembl_webresource_client) (3.3)\n",
      "Requirement already satisfied: charset-normalizer~=2.0.0 in c:\\anaconda\\lib\\site-packages (from requests>=2.18.4->chembl_webresource_client) (2.0.4)\n",
      "Requirement already satisfied: url-normalize<2.0,>=1.4 in c:\\anaconda\\lib\\site-packages (from requests-cache~=0.7.0->chembl_webresource_client) (1.4.3)\n",
      "Requirement already satisfied: attrs<22.0,>=21.2 in c:\\anaconda\\lib\\site-packages (from requests-cache~=0.7.0->chembl_webresource_client) (21.4.0)\n",
      "Requirement already satisfied: itsdangerous>=2.0.1 in c:\\anaconda\\lib\\site-packages (from requests-cache~=0.7.0->chembl_webresource_client) (2.0.1)\n",
      "Requirement already satisfied: pyyaml>=5.4 in c:\\anaconda\\lib\\site-packages (from requests-cache~=0.7.0->chembl_webresource_client) (6.0)\n",
      "Requirement already satisfied: six in c:\\anaconda\\lib\\site-packages (from url-normalize<2.0,>=1.4->requests-cache~=0.7.0->chembl_webresource_client) (1.16.0)\n"
     ]
    }
   ],
   "source": [
    "# Install the ChEMBL web service package so that we can retrieve bioactivity data from the ChEMBL Database.\n",
    "! pip install chembl_webresource_client"
   ]
  },
  {
   "cell_type": "code",
   "execution_count": 2,
   "id": "9ee0518f",
   "metadata": {},
   "outputs": [],
   "source": [
    "# Import necessary libraries\n",
    "import pandas as pd\n",
    "import numpy as np\n",
    "from chembl_webresource_client.new_client import new_client"
   ]
  },
  {
   "cell_type": "code",
   "execution_count": 3,
   "id": "38c5ea3a",
   "metadata": {},
   "outputs": [
    {
     "data": {
      "text/html": [
       "<div>\n",
       "<style scoped>\n",
       "    .dataframe tbody tr th:only-of-type {\n",
       "        vertical-align: middle;\n",
       "    }\n",
       "\n",
       "    .dataframe tbody tr th {\n",
       "        vertical-align: top;\n",
       "    }\n",
       "\n",
       "    .dataframe thead th {\n",
       "        text-align: right;\n",
       "    }\n",
       "</style>\n",
       "<table border=\"1\" class=\"dataframe\">\n",
       "  <thead>\n",
       "    <tr style=\"text-align: right;\">\n",
       "      <th></th>\n",
       "      <th>cross_references</th>\n",
       "      <th>organism</th>\n",
       "      <th>pref_name</th>\n",
       "      <th>score</th>\n",
       "      <th>species_group_flag</th>\n",
       "      <th>target_chembl_id</th>\n",
       "      <th>target_components</th>\n",
       "      <th>target_type</th>\n",
       "      <th>tax_id</th>\n",
       "    </tr>\n",
       "  </thead>\n",
       "  <tbody>\n",
       "    <tr>\n",
       "      <th>0</th>\n",
       "      <td>[]</td>\n",
       "      <td>Coronavirus</td>\n",
       "      <td>Coronavirus</td>\n",
       "      <td>17.0</td>\n",
       "      <td>False</td>\n",
       "      <td>CHEMBL613732</td>\n",
       "      <td>[]</td>\n",
       "      <td>ORGANISM</td>\n",
       "      <td>11119</td>\n",
       "    </tr>\n",
       "    <tr>\n",
       "      <th>1</th>\n",
       "      <td>[]</td>\n",
       "      <td>SARS coronavirus</td>\n",
       "      <td>SARS coronavirus</td>\n",
       "      <td>14.0</td>\n",
       "      <td>False</td>\n",
       "      <td>CHEMBL612575</td>\n",
       "      <td>[]</td>\n",
       "      <td>ORGANISM</td>\n",
       "      <td>227859</td>\n",
       "    </tr>\n",
       "    <tr>\n",
       "      <th>2</th>\n",
       "      <td>[]</td>\n",
       "      <td>Feline coronavirus</td>\n",
       "      <td>Feline coronavirus</td>\n",
       "      <td>14.0</td>\n",
       "      <td>False</td>\n",
       "      <td>CHEMBL612744</td>\n",
       "      <td>[]</td>\n",
       "      <td>ORGANISM</td>\n",
       "      <td>12663</td>\n",
       "    </tr>\n",
       "    <tr>\n",
       "      <th>3</th>\n",
       "      <td>[]</td>\n",
       "      <td>Murine coronavirus</td>\n",
       "      <td>Murine coronavirus</td>\n",
       "      <td>14.0</td>\n",
       "      <td>False</td>\n",
       "      <td>CHEMBL5209664</td>\n",
       "      <td>[]</td>\n",
       "      <td>ORGANISM</td>\n",
       "      <td>694005</td>\n",
       "    </tr>\n",
       "    <tr>\n",
       "      <th>4</th>\n",
       "      <td>[]</td>\n",
       "      <td>Human coronavirus 229E</td>\n",
       "      <td>Human coronavirus 229E</td>\n",
       "      <td>12.0</td>\n",
       "      <td>False</td>\n",
       "      <td>CHEMBL613837</td>\n",
       "      <td>[]</td>\n",
       "      <td>ORGANISM</td>\n",
       "      <td>11137</td>\n",
       "    </tr>\n",
       "    <tr>\n",
       "      <th>5</th>\n",
       "      <td>[]</td>\n",
       "      <td>Human coronavirus OC43</td>\n",
       "      <td>Human coronavirus OC43</td>\n",
       "      <td>12.0</td>\n",
       "      <td>False</td>\n",
       "      <td>CHEMBL5209665</td>\n",
       "      <td>[]</td>\n",
       "      <td>ORGANISM</td>\n",
       "      <td>31631</td>\n",
       "    </tr>\n",
       "    <tr>\n",
       "      <th>6</th>\n",
       "      <td>[{'xref_id': 'P0C6U8', 'xref_name': None, 'xre...</td>\n",
       "      <td>SARS coronavirus</td>\n",
       "      <td>SARS coronavirus 3C-like proteinase</td>\n",
       "      <td>10.0</td>\n",
       "      <td>False</td>\n",
       "      <td>CHEMBL3927</td>\n",
       "      <td>[{'accession': 'P0C6U8', 'component_descriptio...</td>\n",
       "      <td>SINGLE PROTEIN</td>\n",
       "      <td>227859</td>\n",
       "    </tr>\n",
       "    <tr>\n",
       "      <th>7</th>\n",
       "      <td>[]</td>\n",
       "      <td>Middle East respiratory syndrome-related coron...</td>\n",
       "      <td>Middle East respiratory syndrome-related coron...</td>\n",
       "      <td>9.0</td>\n",
       "      <td>False</td>\n",
       "      <td>CHEMBL4296578</td>\n",
       "      <td>[]</td>\n",
       "      <td>ORGANISM</td>\n",
       "      <td>1335626</td>\n",
       "    </tr>\n",
       "    <tr>\n",
       "      <th>8</th>\n",
       "      <td>[{'xref_id': 'P0C6X7', 'xref_name': None, 'xre...</td>\n",
       "      <td>SARS coronavirus</td>\n",
       "      <td>Replicase polyprotein 1ab</td>\n",
       "      <td>4.0</td>\n",
       "      <td>False</td>\n",
       "      <td>CHEMBL5118</td>\n",
       "      <td>[{'accession': 'P0C6X7', 'component_descriptio...</td>\n",
       "      <td>SINGLE PROTEIN</td>\n",
       "      <td>227859</td>\n",
       "    </tr>\n",
       "    <tr>\n",
       "      <th>9</th>\n",
       "      <td>[]</td>\n",
       "      <td>Severe acute respiratory syndrome coronavirus 2</td>\n",
       "      <td>Replicase polyprotein 1ab</td>\n",
       "      <td>4.0</td>\n",
       "      <td>False</td>\n",
       "      <td>CHEMBL4523582</td>\n",
       "      <td>[{'accession': 'P0DTD1', 'component_descriptio...</td>\n",
       "      <td>SINGLE PROTEIN</td>\n",
       "      <td>2697049</td>\n",
       "    </tr>\n",
       "  </tbody>\n",
       "</table>\n",
       "</div>"
      ],
      "text/plain": [
       "                                    cross_references  \\\n",
       "0                                                 []   \n",
       "1                                                 []   \n",
       "2                                                 []   \n",
       "3                                                 []   \n",
       "4                                                 []   \n",
       "5                                                 []   \n",
       "6  [{'xref_id': 'P0C6U8', 'xref_name': None, 'xre...   \n",
       "7                                                 []   \n",
       "8  [{'xref_id': 'P0C6X7', 'xref_name': None, 'xre...   \n",
       "9                                                 []   \n",
       "\n",
       "                                            organism  \\\n",
       "0                                        Coronavirus   \n",
       "1                                   SARS coronavirus   \n",
       "2                                 Feline coronavirus   \n",
       "3                                 Murine coronavirus   \n",
       "4                             Human coronavirus 229E   \n",
       "5                             Human coronavirus OC43   \n",
       "6                                   SARS coronavirus   \n",
       "7  Middle East respiratory syndrome-related coron...   \n",
       "8                                   SARS coronavirus   \n",
       "9    Severe acute respiratory syndrome coronavirus 2   \n",
       "\n",
       "                                           pref_name  score  \\\n",
       "0                                        Coronavirus   17.0   \n",
       "1                                   SARS coronavirus   14.0   \n",
       "2                                 Feline coronavirus   14.0   \n",
       "3                                 Murine coronavirus   14.0   \n",
       "4                             Human coronavirus 229E   12.0   \n",
       "5                             Human coronavirus OC43   12.0   \n",
       "6                SARS coronavirus 3C-like proteinase   10.0   \n",
       "7  Middle East respiratory syndrome-related coron...    9.0   \n",
       "8                          Replicase polyprotein 1ab    4.0   \n",
       "9                          Replicase polyprotein 1ab    4.0   \n",
       "\n",
       "   species_group_flag target_chembl_id  \\\n",
       "0               False     CHEMBL613732   \n",
       "1               False     CHEMBL612575   \n",
       "2               False     CHEMBL612744   \n",
       "3               False    CHEMBL5209664   \n",
       "4               False     CHEMBL613837   \n",
       "5               False    CHEMBL5209665   \n",
       "6               False       CHEMBL3927   \n",
       "7               False    CHEMBL4296578   \n",
       "8               False       CHEMBL5118   \n",
       "9               False    CHEMBL4523582   \n",
       "\n",
       "                                   target_components     target_type   tax_id  \n",
       "0                                                 []        ORGANISM    11119  \n",
       "1                                                 []        ORGANISM   227859  \n",
       "2                                                 []        ORGANISM    12663  \n",
       "3                                                 []        ORGANISM   694005  \n",
       "4                                                 []        ORGANISM    11137  \n",
       "5                                                 []        ORGANISM    31631  \n",
       "6  [{'accession': 'P0C6U8', 'component_descriptio...  SINGLE PROTEIN   227859  \n",
       "7                                                 []        ORGANISM  1335626  \n",
       "8  [{'accession': 'P0C6X7', 'component_descriptio...  SINGLE PROTEIN   227859  \n",
       "9  [{'accession': 'P0DTD1', 'component_descriptio...  SINGLE PROTEIN  2697049  "
      ]
     },
     "execution_count": 3,
     "metadata": {},
     "output_type": "execute_result"
    }
   ],
   "source": [
    "# Target search for coronavirus\n",
    "target = new_client.target\n",
    "target_query = target.search('coronavirus')\n",
    "targets = pd.DataFrame.from_dict(target_query)\n",
    "targets"
   ]
  },
  {
   "cell_type": "code",
   "execution_count": 4,
   "id": "8cc06eaf",
   "metadata": {},
   "outputs": [
    {
     "name": "stdout",
     "output_type": "stream",
     "text": [
      "selected_target1 : CHEMBL5118\n",
      "selected_target2 : CHEMBL4523582\n"
     ]
    }
   ],
   "source": [
    "#We will assign the 8,9 (Replicase polyprotein 1ab) to the *selected_target* variable \n",
    "selected_target1 = targets.target_chembl_id[8] #binding assays (CHEMBL5118)\n",
    "selected_target2 = targets.target_chembl_id[9] #functional assays (CHEMBL4523582)\n",
    "print(\"selected_target1 :\", selected_target1)\n",
    "print(\"selected_target2 :\", selected_target2)"
   ]
  },
  {
   "cell_type": "code",
   "execution_count": 5,
   "id": "efe94424",
   "metadata": {},
   "outputs": [],
   "source": [
    "# Here, we will retrieve only bioactivity data for coronavirus replicase polyprotein 1ab that are reported as IC\n",
    "# values in nM (nanomolar) unit.\n",
    "activity = new_client.activity\n",
    "res1 = activity.filter(target_chembl_id=selected_target1).filter(standard_type=\"IC50\")\n",
    "res2 = activity.filter(target_chembl_id=selected_target2).filter(standard_type=\"IC50\")"
   ]
  },
  {
   "cell_type": "code",
   "execution_count": 6,
   "id": "4b667524",
   "metadata": {},
   "outputs": [],
   "source": [
    "#put them in a dataframe \n",
    "df1 = pd.DataFrame.from_dict(res1)\n",
    "df2 = pd.DataFrame.from_dict(res2)"
   ]
  },
  {
   "cell_type": "code",
   "execution_count": 7,
   "id": "1f2ad203",
   "metadata": {},
   "outputs": [
    {
     "data": {
      "text/plain": [
       "(1435, 46)"
      ]
     },
     "execution_count": 7,
     "metadata": {},
     "output_type": "execute_result"
    }
   ],
   "source": [
    "#Concatenate the dataframes vertically\n",
    "data = pd.concat([df1, df2], axis=0)\n",
    "# Reset the index of the resulting dataframe\n",
    "data = data.reset_index(drop=True)\n",
    "data.head(5)\n",
    "data.shape"
   ]
  },
  {
   "cell_type": "code",
   "execution_count": null,
   "id": "f019fe31",
   "metadata": {},
   "outputs": [],
   "source": [
    "#Finally we will save the resulting bioactivity data to a CSV file bioactivity_data.csv.\n",
    "# data.to_csv('replicase_data_raw.csv', index=False)"
   ]
  },
  {
   "cell_type": "code",
   "execution_count": 8,
   "id": "57106e0d",
   "metadata": {},
   "outputs": [
    {
     "data": {
      "text/plain": [
       "(1359, 46)"
      ]
     },
     "execution_count": 8,
     "metadata": {},
     "output_type": "execute_result"
    }
   ],
   "source": [
    "# If any compounds has missing value for the standard_value column then drop it\n",
    "mydata = data[data.standard_value.notna()]\n",
    "mydata\n",
    "mydata.shape"
   ]
  },
  {
   "cell_type": "code",
   "execution_count": 9,
   "id": "ba04c9e3",
   "metadata": {},
   "outputs": [
    {
     "data": {
      "text/plain": [
       "(1352, 46)"
      ]
     },
     "execution_count": 9,
     "metadata": {},
     "output_type": "execute_result"
    }
   ],
   "source": [
    "#handle compounds that have no smiles.\n",
    "newdata = mydata[mydata.canonical_smiles.notna()]\n",
    "newdata.shape"
   ]
  },
  {
   "cell_type": "code",
   "execution_count": 10,
   "id": "1556100d",
   "metadata": {},
   "outputs": [],
   "source": [
    "#check to see if there are duplicates\n",
    "len(newdata.canonical_smiles.unique())\n",
    "#Drop the duplicates\n",
    "newdata = newdata.drop_duplicates(['canonical_smiles'])\n",
    "newdata.shape\n",
    "#Reset the index\n",
    "newdata.reset_index(drop=True, inplace=True)"
   ]
  },
  {
   "cell_type": "code",
   "execution_count": 11,
   "id": "2a0cb775",
   "metadata": {},
   "outputs": [],
   "source": [
    "#calculate the pChEMBL value of the rows that are missing using the standard value of the IC50 \n",
    "newdata['standard_value'] = pd.to_numeric(newdata['standard_value'], errors='coerce')\n",
    "newdata['pchembl_value'] = pd.to_numeric(newdata['pchembl_value'], errors='coerce')\n",
    "newdata.loc[newdata['pchembl_value'].isnull(), 'pchembl_value'] = np.log10(newdata.loc[newdata['pchembl_value'].isnull(), 'standard_value'].values)\n",
    "newdata['pchembl_value'] = newdata['pchembl_value'].round(2)"
   ]
  },
  {
   "cell_type": "code",
   "execution_count": 12,
   "id": "f31ec1aa",
   "metadata": {},
   "outputs": [
    {
     "data": {
      "text/plain": [
       "1087"
      ]
     },
     "execution_count": 12,
     "metadata": {},
     "output_type": "execute_result"
    }
   ],
   "source": [
    "# define the activity class using 4 as the pchembl value cut-off\n",
    "bioactivity_class = []\n",
    "for i in newdata.pchembl_value:\n",
    "    if float(i) <= 4:\n",
    "        bioactivity_class.append(\"no activity\")\n",
    "    elif float(i) > 4 and float(i) <= 5.99:\n",
    "        bioactivity_class.append(\"low activity\")\n",
    "    elif float(i) >= 6 and float(i) <= 7.99:\n",
    "        bioactivity_class.append(\"moderate activity\")\n",
    "    else:\n",
    "        bioactivity_class.append(\"high activity\")\n",
    "\n",
    "len(bioactivity_class)"
   ]
  },
  {
   "cell_type": "code",
   "execution_count": 14,
   "id": "4535e568",
   "metadata": {},
   "outputs": [],
   "source": [
    "#slice your data\n",
    "mynewdata= newdata[['molecule_chembl_id','canonical_smiles','pchembl_value']]\n",
    "mynewdata.shape\n",
    "#serialize the bioactivity list\n",
    "bioactivity_class = pd.Series(bioactivity_class, name='bioactivity_class')\n",
    "# Reset the index of 'mynewdata' and 'bioactivity_class' to ensure consistent indices\n",
    "mynewdata.reset_index(drop=True, inplace=True)\n",
    "bioactivity_class.reset_index(drop=True, inplace=True)\n",
    "\n",
    "# Concatenate 'mynewdata' and 'bioactivity_class' horizontally (axis=1)\n",
    "dataframe = pd.concat([mynewdata, bioactivity_class], axis=1)"
   ]
  },
  {
   "cell_type": "code",
   "execution_count": 15,
   "id": "1ab1a517",
   "metadata": {},
   "outputs": [
    {
     "name": "stdout",
     "output_type": "stream",
     "text": [
      "     molecule_chembl_id                                   canonical_smiles  \\\n",
      "0          CHEMBL194398  CCOC(=O)/C=C/[C@H](C[C@@H]1CCNC1=O)NC(=O)[C@@H...   \n",
      "1          CHEMBL393608  CCOC(=O)/C=C/[C@H](C[C@@H]1CCNC1=O)NC(=O)[C@H]...   \n",
      "2          CHEMBL238216  CCOC(=O)/C=C/[C@H](C[C@@H]1CCNC1=O)NC(=O)[C@H]...   \n",
      "3          CHEMBL235873  CCOC(=O)/C=C/[C@H](C[C@@H]1CCNC1=O)NC(=O)[C@H]...   \n",
      "4          CHEMBL397154  CCOC(=O)/C=C/[C@H](C[C@@H]1CCNC1=O)NC(=O)[C@H]...   \n",
      "...                 ...                                                ...   \n",
      "1082      CHEMBL5220196  CC(C)C[C@H](NC(=O)OCCC12CC3CC(CC(C3)C1)C2)C(=O...   \n",
      "1083      CHEMBL5220377  CC(C)C[C@H](NC(=O)OCC12CC3CC(CC(O)(C3)C1)C2)C(...   \n",
      "1084      CHEMBL5219749  CC(C)C[C@H](NC(=O)OCC12CC3CC(CC(O)(C3)C1)C2)C(...   \n",
      "1085      CHEMBL5218884  [2H]C([2H])(OC(=O)N[C@@H](CC(C)C)C(=O)N[C@H](C...   \n",
      "1086      CHEMBL5220641  [2H]C([2H])(OC(=O)N[C@@H](CC(C)C)C(=O)N[C@@H](...   \n",
      "\n",
      "      pchembl_value  bioactivity_class  \n",
      "0              5.94       low activity  \n",
      "1              5.30       low activity  \n",
      "2              5.48       low activity  \n",
      "3              4.82       low activity  \n",
      "4              5.00       low activity  \n",
      "...             ...                ...  \n",
      "1082           6.60  moderate activity  \n",
      "1083           6.09  moderate activity  \n",
      "1084           5.99       low activity  \n",
      "1085           6.13  moderate activity  \n",
      "1086           6.11  moderate activity  \n",
      "\n",
      "[1087 rows x 4 columns]\n",
      "     molecule_chembl_id                                   canonical_smiles  \\\n",
      "0          CHEMBL194398  CCOC(=O)/C=C/[C@H](C[C@@H]1CCNC1=O)NC(=O)[C@@H...   \n",
      "1          CHEMBL393608  CCOC(=O)/C=C/[C@H](C[C@@H]1CCNC1=O)NC(=O)[C@H]...   \n",
      "2          CHEMBL238216  CCOC(=O)/C=C/[C@H](C[C@@H]1CCNC1=O)NC(=O)[C@H]...   \n",
      "3          CHEMBL235873  CCOC(=O)/C=C/[C@H](C[C@@H]1CCNC1=O)NC(=O)[C@H]...   \n",
      "4          CHEMBL397154  CCOC(=O)/C=C/[C@H](C[C@@H]1CCNC1=O)NC(=O)[C@H]...   \n",
      "...                 ...                                                ...   \n",
      "1082      CHEMBL5220196  CC(C)C[C@H](NC(=O)OCCC12CC3CC(CC(C3)C1)C2)C(=O...   \n",
      "1083      CHEMBL5220377  CC(C)C[C@H](NC(=O)OCC12CC3CC(CC(O)(C3)C1)C2)C(...   \n",
      "1084      CHEMBL5219749  CC(C)C[C@H](NC(=O)OCC12CC3CC(CC(O)(C3)C1)C2)C(...   \n",
      "1085      CHEMBL5218884  [2H]C([2H])(OC(=O)N[C@@H](CC(C)C)C(=O)N[C@H](C...   \n",
      "1086      CHEMBL5220641  [2H]C([2H])(OC(=O)N[C@@H](CC(C)C)C(=O)N[C@@H](...   \n",
      "\n",
      "      pchembl_value  bioactivity_class  \n",
      "0              5.94       low activity  \n",
      "1              5.30       low activity  \n",
      "2              5.48       low activity  \n",
      "3              4.82       low activity  \n",
      "4              5.00       low activity  \n",
      "...             ...                ...  \n",
      "1082           6.60  moderate activity  \n",
      "1083           6.09  moderate activity  \n",
      "1084           5.99       low activity  \n",
      "1085           6.13  moderate activity  \n",
      "1086           6.11  moderate activity  \n",
      "\n",
      "[1087 rows x 4 columns]\n"
     ]
    }
   ],
   "source": [
    "# Verify the resulting DataFrame\n",
    "print(dataframe)"
   ]
  },
  {
   "cell_type": "code",
   "execution_count": null,
   "id": "4e10a034",
   "metadata": {},
   "outputs": [],
   "source": [
    "#save the preprocessed data\n",
    "# dataframe.to_csv('Replicase_bioactivity_data_preprocessed.csv', index=False)"
   ]
  }
 ],
 "metadata": {
  "kernelspec": {
   "display_name": "Python 3 (ipykernel)",
   "language": "python",
   "name": "python3"
  },
  "language_info": {
   "codemirror_mode": {
    "name": "ipython",
    "version": 3
   },
   "file_extension": ".py",
   "mimetype": "text/x-python",
   "name": "python",
   "nbconvert_exporter": "python",
   "pygments_lexer": "ipython3",
   "version": "3.9.12"
  }
 },
 "nbformat": 4,
 "nbformat_minor": 5
}
